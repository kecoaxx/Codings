version https://git-lfs.github.com/spec/v1
oid sha256:d414bfa42dad83bb00b9d10c86dede1f1b3c515809b296ff8ff65d45b10ec152
size 26195
