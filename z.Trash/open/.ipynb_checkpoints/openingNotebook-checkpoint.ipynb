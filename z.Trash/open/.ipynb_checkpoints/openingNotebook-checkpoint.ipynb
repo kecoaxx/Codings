version https://git-lfs.github.com/spec/v1
oid sha256:2ff21f1316ff7a51376d3f131e6447348818ef5344295c8a8a93b4543c499907
size 2283
